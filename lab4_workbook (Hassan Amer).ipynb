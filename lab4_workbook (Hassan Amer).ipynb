{
 "cells": [
  {
   "cell_type": "markdown",
   "metadata": {
    "colab_type": "text",
    "id": "u1YDPNtbdHDj"
   },
   "source": [
    "# Control Structures and Pandas\n",
    "\n",
    "## PETE 2061 Lab 4 Workbook \n",
    "\n",
    "## THIS IS DUE BY 10:20 AM TODAY\n",
    "\n",
    "<a id='top'></a>"
   ]
  },
  {
   "cell_type": "markdown",
   "metadata": {},
   "source": [
    "1. Paste the url (or link) to the pete2061 folder in your github account in the \"marked down\" cell below. <br>"
   ]
  },
  {
   "cell_type": "markdown",
   "metadata": {},
   "source": []
  },
  {
   "cell_type": "markdown",
   "metadata": {},
   "source": [
    "2. Write a program that generates 10 random integers, and then prints the largest odd number that was entered. If no odd number was entered it should print a message to that effect"
   ]
  },
  {
   "cell_type": "code",
   "execution_count": 1,
   "metadata": {},
   "outputs": [
    {
     "name": "stdout",
     "output_type": "stream",
     "text": [
      "Randomly generated integers are [86 10 32 93  6 56 94 12 29 47]\n",
      "Odd intergers are [93. 29. 47.]\n",
      "The maximum odd interger is: 93.0\n"
     ]
    }
   ],
   "source": [
    "import pandas as pd\n",
    "import numpy as np\n",
    "rand_int = np.random.randint(1,100,10)\n",
    "#rand_int = randint[randint%2!=0]. This is incomplete. However, this one-line code comes handy instead of doing the for loop.\n",
    "rand_odd = np.zeros(rand_int.shape)\n",
    "print (f'Randomly generated integers are {rand_int}')\n",
    "n=0\n",
    "for i in rand_int:\n",
    "    if i % 2 != 0: \n",
    "        rand_odd[n]=i\n",
    "        n+=1\n",
    "if n==0:\n",
    "    print(\"No odd numbers are entered\")\n",
    "\n",
    "rand_odd = rand_odd[0:n]\n",
    "print(f\"Odd intergers are {rand_odd}\")\n",
    "print (f'The maximum odd interger is: {np.max(rand_odd)}')"
   ]
  },
  {
   "cell_type": "markdown",
   "metadata": {},
   "source": [
    "3. It is commonly said that one human year is equivalent to 7 dog years. However, this simple conversion fails to recognize that dogs reach adulthood in approximately two years. As a result, some people believe that it is better to count each of the first two human years as 10.5 dog years, and then count each additional human year as 4 dog\n",
    "years. <br>\n",
    "Write a program that implements the conversion from human years to dog years described in the previous paragraph. Ensure that your program works correctly for conversions of less than two human years and for conversions of two or more human years. Your program should generate a random number between 0 and 10, and display an appropriate error message if the user enters a number that is outside this range."
   ]
  },
  {
   "cell_type": "code",
   "execution_count": null,
   "metadata": {},
   "outputs": [],
   "source": [
    "human_years = float(input(\"Enter Human Years: \"))\n",
    "while (human_years < 0 or human_years > 10):\n",
    "    human_years = float(input(\"Enter Human Years between 0 and 10: \"))\n",
    "\n",
    "if human_years >= 2:\n",
    "    dog_years = (2 * 10.5) + (((human_years) - 2) * 4)\n",
    "else:\n",
    "    dog_years = human_years  *10.5\n",
    "    \n",
    "print(f'{human_years} human years equlas to {dog_years} dog years.')"
   ]
  },
  {
   "cell_type": "markdown",
   "metadata": {},
   "source": [
    "4. Write a program that begins by reading a score in percentage (%) from the user. Then your program should compute and display the equivalent letter grade. Ensure that your program generates an appropriate error message if the user enters an invalid score.\n",
    "Use the grading scale on your syllabus. These scores are typed in below."
   ]
  },
  {
   "cell_type": "code",
   "execution_count": 7,
   "metadata": {},
   "outputs": [
    {
     "name": "stdout",
     "output_type": "stream",
     "text": [
      "Enter your score percentage: 78\n",
      "Your letter grade is C+\n"
     ]
    }
   ],
   "source": [
    "score = float(input(\"Enter your score percentage: \"))\n",
    "\n",
    "while(score > 100 or score < 0):\n",
    "    score = float(input(\"Please enter a valid score from 0 to 100: \"))\n",
    "\n",
    "if score >= 97:\n",
    "    print(\"Your letter grade is A+\")\n",
    "elif score >= 93:\n",
    "    print(\"Your letter grade is A\")\n",
    "elif score >= 90:\n",
    "    print(\"Your letter grade is A-\")\n",
    "elif score >= 87:\n",
    "    print(\"Your letter grade is B+\")\n",
    "elif score >= 83:\n",
    "    print(\"Your letter grade is B\")\n",
    "elif score >= 80:\n",
    "    print(\"Your letter grade is B-\")\n",
    "elif score >= 77:\n",
    "    print(\"Your letter grade is C+\")\n",
    "elif score >= 73:\n",
    "    print(\"Your letter grade is C\")\n",
    "elif score >= 70:\n",
    "    print(\"Your letter grade is C-\")\n",
    "elif score >= 67:\n",
    "    print(\"Your letter grade is D+\")\n",
    "elif score >= 63:\n",
    "    print(\"Your letter grade is D\")\n",
    "elif score >= 60:\n",
    "    print(\"Your letter grade is D-\")\n",
    "else:\n",
    "    print(\"Your letter grade is F\")\n",
    "    \n",
    "#This is not a good coding practice. I wanted to introduce some mathematical operation such as making an integar division\n",
    "# and making use of the -3 repetitive between each letter grade. Rahter, I coded this lenthy code and it gave the same results."
   ]
  },
  {
   "cell_type": "markdown",
   "metadata": {},
   "source": [
    "5. For Students A through J, generate 10 different random numbers between 0 and 100. Create a dataframe to store the student names in the first column (called \"Name\"), and store the scores in the second column called \"Score\".\n",
    "   Print out the mean, standard deviation and maximum of the scores, as well as the index of the student with this maximum score. "
   ]
  },
  {
   "cell_type": "code",
   "execution_count": 50,
   "metadata": {},
   "outputs": [
    {
     "name": "stdout",
     "output_type": "stream",
     "text": [
      "  Name  Score\n",
      "0    A     35\n",
      "1    B      9\n",
      "2    C      2\n",
      "3    D     20\n",
      "4    E      8\n",
      "5    F     42\n",
      "6    G     60\n",
      "7    H     86\n",
      "8    I     81\n",
      "9    J     98\n",
      "           Score\n",
      "count  10.000000\n",
      "mean   44.100000\n",
      "std    35.356753\n",
      "min     2.000000\n",
      "25%    11.750000\n",
      "50%    38.500000\n",
      "75%    75.750000\n",
      "max    98.000000\n"
     ]
    },
    {
     "data": {
      "text/plain": [
       "9    J\n",
       "Name: Name, dtype: object"
      ]
     },
     "execution_count": 50,
     "metadata": {},
     "output_type": "execute_result"
    }
   ],
   "source": [
    "import pandas as pd\n",
    "import numpy as np\n",
    "names = ['A','B','C','D','E','F','G','H','I','J']\n",
    "rand_int = np.random.randint(0,100,10)\n",
    "df1 = pd.DataFrame({'Name':names,'Score':rand_int})\n",
    "print(df1)\n",
    "\n",
    "print(df1.describe())\n",
    "a = df1['Score'].max()\n",
    "df1['Name'][df1['Score'] == a] #this returns the row index number + the letter from the Name column"
   ]
  },
  {
   "cell_type": "code",
   "execution_count": null,
   "metadata": {},
   "outputs": [],
   "source": []
  }
 ],
 "metadata": {
  "colab": {
   "collapsed_sections": [
    "sYQs3O-6dHFb",
    "8sIJ4A57dHFk",
    "_73RPOcBdHFn",
    "h9s2tfPcdHFo",
    "zt4YHVYPdHGR"
   ],
   "include_colab_link": true,
   "name": "Copy of intro-python-colab.ipynb",
   "provenance": [],
   "version": "0.3.2"
  },
  "kernelspec": {
   "display_name": "Python 3",
   "language": "python",
   "name": "python3"
  },
  "language_info": {
   "codemirror_mode": {
    "name": "ipython",
    "version": 3
   },
   "file_extension": ".py",
   "mimetype": "text/x-python",
   "name": "python",
   "nbconvert_exporter": "python",
   "pygments_lexer": "ipython3",
   "version": "3.7.3"
  }
 },
 "nbformat": 4,
 "nbformat_minor": 1
}
