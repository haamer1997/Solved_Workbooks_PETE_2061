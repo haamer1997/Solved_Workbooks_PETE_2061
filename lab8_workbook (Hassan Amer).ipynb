{
 "cells": [
  {
   "cell_type": "markdown",
   "metadata": {
    "colab_type": "text",
    "id": "u1YDPNtbdHDj"
   },
   "source": [
    "\n",
    "#  Inferential Statistics\n",
    "\n",
    "## PETE 2061 Lab 8 Workbook \n",
    "\n",
    "## THIS IS DUE BY 11:59 PM TODAY (Oct 14, 2019)"
   ]
  },
  {
   "cell_type": "markdown",
   "metadata": {},
   "source": [
    "1. **Using the example in \"lab8_inferential_stats.ipynb\", write a Python code to compute the confidence interval for the winning percentage of Ed Orgeron based on \"poll-larger.csv\", and show that he is the likely winner within a 95% confidence interval**\n",
    "2. Type out:\n",
    "    * (a) the 95% confidence interval\n",
    "    * (b) the point estimate\n",
    "    * (c) the margin of error."
   ]
  },
  {
   "cell_type": "code",
   "execution_count": 6,
   "metadata": {},
   "outputs": [
    {
     "name": "stdout",
     "output_type": "stream",
     "text": [
      "0.5182\n",
      "We are 95% confident that Ed Orgeron will win the poll with point estimate of 0.5182 and a margin of error of 0.010404999999999998\n"
     ]
    },
    {
     "data": {
      "image/png": "[encoded data removed]",
      "text/plain": [
       "<Figure size 432x288 with 1 Axes>"
      ]
     },
     "metadata": {
      "needs_background": "light"
     },
     "output_type": "display_data"
    }
   ],
   "source": [
    "import numpy as np\n",
    "import pandas as pd\n",
    "\n",
    "import matplotlib\n",
    "import matplotlib.pyplot as plt\n",
    "\n",
    "%matplotlib inline\n",
    "\n",
    "largepoll = pd.read_csv('D:/LSU/1st Semester/Statistics and Data Visualization in Petroleum Engineering (PETE 2061)/Assignments and Lab Jupyter Notebooks/Assignment 8/poll-larger.csv')\n",
    "largepoll['vote'].value_counts(normalize=True)\n",
    "\n",
    "def sample1(OrgeronWinPercent,n=1000):\n",
    "    return pd.DataFrame({'vote': np.where(np.random.rand(n) < OrgeronWinPercent,'Orgeron','Saban')})\n",
    "\n",
    "def samplingdist1(OrgeronWinPercent,n=1000):\n",
    "    return pd.DataFrame([sample1(OrgeronWinPercent,n)['vote'].value_counts(normalize=True) for i in range(1000)])\n",
    "\n",
    "def quantiles1(OrgeronWinPercent,n=1000):\n",
    "    distDF = samplingdist1(OrgeronWinPercent,n)\n",
    "    return distDF['Orgeron'].quantile(0.025), distDF['Orgeron'].quantile(0.975)\n",
    "\n",
    "distDF1 = samplingdist1(0.5181,10000)\n",
    "distDF1['Orgeron'].plot(kind='hist', histtype='step')\n",
    "plt.axvline(distDF1['Orgeron'].quantile(0.025), c='C1',linestyle='--')\n",
    "plt.axvline(distDF1['Orgeron'].quantile(0.500), c='C1')\n",
    "plt.axvline(distDF1['Orgeron'].quantile(0.975), c='C1',linestyle=':')\n",
    "x = distDF1['Orgeron'].quantile(0.5)\n",
    "y = distDF1['Orgeron'].quantile(0.5) - distDF1['Orgeron'].quantile(0.025)\n",
    "quantiles1(0.5181,10000)\n",
    "print(x)\n",
    "print(f'We are 95% confident that Ed Orgeron will win the poll with point estimate of {x} and a margin of error of {y}')"
   ]
  }
 ],
 "metadata": {
  "colab": {
   "collapsed_sections": [
    "sYQs3O-6dHFb",
    "8sIJ4A57dHFk",
    "_73RPOcBdHFn",
    "h9s2tfPcdHFo",
    "zt4YHVYPdHGR"
   ],
   "include_colab_link": true,
   "name": "Copy of intro-python-colab.ipynb",
   "provenance": [],
   "version": "0.3.2"
  },
  "kernelspec": {
   "display_name": "Python 3",
   "language": "python",
   "name": "python3"
  },
  "language_info": {
   "codemirror_mode": {
    "name": "ipython",
    "version": 3
   },
   "file_extension": ".py",
   "mimetype": "text/x-python",
   "name": "python",
   "nbconvert_exporter": "python",
   "pygments_lexer": "ipython3",
   "version": "3.7.3"
  }
 },
 "nbformat": 4,
 "nbformat_minor": 1
}
